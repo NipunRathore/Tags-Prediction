{
 "cells": [
  {
   "cell_type": "markdown",
   "id": "20aaac2d",
   "metadata": {},
   "source": [
    "## Importing Required Libraries"
   ]
  },
  {
   "cell_type": "code",
   "execution_count": 1,
   "id": "36c9d1d8",
   "metadata": {},
   "outputs": [],
   "source": [
    "import pandas as pd \n",
    "import numpy as np"
   ]
  },
  {
   "cell_type": "markdown",
   "id": "d541c960",
   "metadata": {},
   "source": [
    "## Loading Data"
   ]
  },
  {
   "cell_type": "code",
   "execution_count": 2,
   "id": "b99d8cc3",
   "metadata": {},
   "outputs": [],
   "source": [
    "df = pd.read_csv('stackoverflowtags.csv')"
   ]
  },
  {
   "cell_type": "code",
   "execution_count": 3,
   "id": "a59593a0",
   "metadata": {},
   "outputs": [
    {
     "data": {
      "text/html": [
       "<div>\n",
       "<style scoped>\n",
       "    .dataframe tbody tr th:only-of-type {\n",
       "        vertical-align: middle;\n",
       "    }\n",
       "\n",
       "    .dataframe tbody tr th {\n",
       "        vertical-align: top;\n",
       "    }\n",
       "\n",
       "    .dataframe thead th {\n",
       "        text-align: right;\n",
       "    }\n",
       "</style>\n",
       "<table border=\"1\" class=\"dataframe\">\n",
       "  <thead>\n",
       "    <tr style=\"text-align: right;\">\n",
       "      <th></th>\n",
       "      <th>title</th>\n",
       "      <th>tags</th>\n",
       "    </tr>\n",
       "  </thead>\n",
       "  <tbody>\n",
       "    <tr>\n",
       "      <th>0</th>\n",
       "      <td>How to draw a stacked dotplot in R?</td>\n",
       "      <td>['r']</td>\n",
       "    </tr>\n",
       "    <tr>\n",
       "      <th>1</th>\n",
       "      <td>mysql select all records where a datetime fiel...</td>\n",
       "      <td>['php', 'mysql']</td>\n",
       "    </tr>\n",
       "    <tr>\n",
       "      <th>2</th>\n",
       "      <td>How to terminate windows phone 8.1 app</td>\n",
       "      <td>['c#']</td>\n",
       "    </tr>\n",
       "    <tr>\n",
       "      <th>3</th>\n",
       "      <td>get current time in a specific country via jquery</td>\n",
       "      <td>['javascript', 'jquery']</td>\n",
       "    </tr>\n",
       "    <tr>\n",
       "      <th>4</th>\n",
       "      <td>Configuring Tomcat to Use SSL</td>\n",
       "      <td>['java']</td>\n",
       "    </tr>\n",
       "  </tbody>\n",
       "</table>\n",
       "</div>"
      ],
      "text/plain": [
       "                                               title                      tags\n",
       "0                How to draw a stacked dotplot in R?                     ['r']\n",
       "1  mysql select all records where a datetime fiel...          ['php', 'mysql']\n",
       "2             How to terminate windows phone 8.1 app                    ['c#']\n",
       "3  get current time in a specific country via jquery  ['javascript', 'jquery']\n",
       "4                      Configuring Tomcat to Use SSL                  ['java']"
      ]
     },
     "execution_count": 3,
     "metadata": {},
     "output_type": "execute_result"
    }
   ],
   "source": [
    "df.head()"
   ]
  },
  {
   "cell_type": "code",
   "execution_count": 4,
   "id": "b310df8b",
   "metadata": {},
   "outputs": [
    {
     "name": "stdout",
     "output_type": "stream",
     "text": [
      "(100000, 2)\n"
     ]
    }
   ],
   "source": [
    "# dimensions of the dataset (rows,columns)\n",
    "print(df.shape)"
   ]
  },
  {
   "cell_type": "code",
   "execution_count": 5,
   "id": "b3410233",
   "metadata": {},
   "outputs": [
    {
     "name": "stdout",
     "output_type": "stream",
     "text": [
      "<class 'pandas.core.frame.DataFrame'>\n",
      "RangeIndex: 100000 entries, 0 to 99999\n",
      "Data columns (total 2 columns):\n",
      " #   Column  Non-Null Count   Dtype \n",
      "---  ------  --------------   ----- \n",
      " 0   title   100000 non-null  object\n",
      " 1   tags    100000 non-null  object\n",
      "dtypes: object(2)\n",
      "memory usage: 1.5+ MB\n"
     ]
    }
   ],
   "source": [
    "df.info()"
   ]
  },
  {
   "cell_type": "code",
   "execution_count": 6,
   "id": "7f039814",
   "metadata": {},
   "outputs": [
    {
     "data": {
      "text/plain": [
       "title    0\n",
       "tags     0\n",
       "dtype: int64"
      ]
     },
     "execution_count": 6,
     "metadata": {},
     "output_type": "execute_result"
    }
   ],
   "source": [
    "# count the number of null values\n",
    "df.isnull().sum()"
   ]
  },
  {
   "cell_type": "code",
   "execution_count": 7,
   "id": "7eacb591",
   "metadata": {},
   "outputs": [
    {
     "data": {
      "text/plain": [
       "Conversion failed when converting date and/or time from character string    3\n",
       "\"FormatException was unhandled\" Input string was not in a correct format    2\n",
       "Input string was not in a correct format                                    2\n",
       "JavaScript runtime error: '$' is undefined                                  2\n",
       "Object reference not set to an instance of an object                        2\n",
       "                                                                           ..\n",
       "NSPredicate predicateWithFormat:(NSString*) inconsistency?                  1\n",
       "document.location.href is not working in IE                                 1\n",
       "segmentation fault in C, core dumped, gdb output                            1\n",
       "C# - are there any events fired right after loading a form?                 1\n",
       "Create a List of primitive int?                                             1\n",
       "Name: title, Length: 99984, dtype: int64"
      ]
     },
     "execution_count": 7,
     "metadata": {},
     "output_type": "execute_result"
    }
   ],
   "source": [
    "# counts the number of occurences of each unique value in title column\n",
    "df.title.value_counts()"
   ]
  },
  {
   "cell_type": "code",
   "execution_count": 8,
   "id": "0370a6ad",
   "metadata": {},
   "outputs": [
    {
     "data": {
      "text/plain": [
       "['java']                                    7026\n",
       "['c#']                                      4983\n",
       "['php']                                     4727\n",
       "['javascript']                              4531\n",
       "['python']                                  3879\n",
       "                                            ... \n",
       "['c#', 'xml', 'windows', 'forms']              1\n",
       "['c#', 'c++', 'c', 'visual-studio-2010']       1\n",
       "['java', 'file', 'datetime']                   1\n",
       "['c#', 'css', 'asp.net', 'asp.net-mvc']        1\n",
       "['ios', 'xcode', 'facebook', 'swift']          1\n",
       "Name: tags, Length: 7066, dtype: int64"
      ]
     },
     "execution_count": 8,
     "metadata": {},
     "output_type": "execute_result"
    }
   ],
   "source": [
    "# counts the number of occurences of each unique value in tags column\n",
    "df.tags.value_counts()"
   ]
  },
  {
   "cell_type": "markdown",
   "id": "40816eeb",
   "metadata": {},
   "source": [
    "## Drop Duplicates"
   ]
  },
  {
   "cell_type": "code",
   "execution_count": 9,
   "id": "b5f10712",
   "metadata": {},
   "outputs": [
    {
     "data": {
      "text/plain": [
       "1"
      ]
     },
     "execution_count": 9,
     "metadata": {},
     "output_type": "execute_result"
    }
   ],
   "source": [
    "# counts the number of duplicated rows in a dataframe \n",
    "df.duplicated().sum()"
   ]
  },
  {
   "cell_type": "code",
   "execution_count": 10,
   "id": "4c0e313f",
   "metadata": {},
   "outputs": [
    {
     "data": {
      "text/html": [
       "<div>\n",
       "<style scoped>\n",
       "    .dataframe tbody tr th:only-of-type {\n",
       "        vertical-align: middle;\n",
       "    }\n",
       "\n",
       "    .dataframe tbody tr th {\n",
       "        vertical-align: top;\n",
       "    }\n",
       "\n",
       "    .dataframe thead th {\n",
       "        text-align: right;\n",
       "    }\n",
       "</style>\n",
       "<table border=\"1\" class=\"dataframe\">\n",
       "  <thead>\n",
       "    <tr style=\"text-align: right;\">\n",
       "      <th></th>\n",
       "      <th>title</th>\n",
       "      <th>tags</th>\n",
       "    </tr>\n",
       "  </thead>\n",
       "  <tbody>\n",
       "    <tr>\n",
       "      <th>0</th>\n",
       "      <td>How to draw a stacked dotplot in R?</td>\n",
       "      <td>['r']</td>\n",
       "    </tr>\n",
       "    <tr>\n",
       "      <th>1</th>\n",
       "      <td>mysql select all records where a datetime fiel...</td>\n",
       "      <td>['php', 'mysql']</td>\n",
       "    </tr>\n",
       "    <tr>\n",
       "      <th>2</th>\n",
       "      <td>How to terminate windows phone 8.1 app</td>\n",
       "      <td>['c#']</td>\n",
       "    </tr>\n",
       "    <tr>\n",
       "      <th>3</th>\n",
       "      <td>get current time in a specific country via jquery</td>\n",
       "      <td>['javascript', 'jquery']</td>\n",
       "    </tr>\n",
       "    <tr>\n",
       "      <th>4</th>\n",
       "      <td>Configuring Tomcat to Use SSL</td>\n",
       "      <td>['java']</td>\n",
       "    </tr>\n",
       "    <tr>\n",
       "      <th>...</th>\n",
       "      <td>...</td>\n",
       "      <td>...</td>\n",
       "    </tr>\n",
       "    <tr>\n",
       "      <th>99995</th>\n",
       "      <td>Obj-c, incorrect checksum for freed object - o...</td>\n",
       "      <td>['iphone', 'objective-c', 'ios', 'cocoa-touch']</td>\n",
       "    </tr>\n",
       "    <tr>\n",
       "      <th>99996</th>\n",
       "      <td>How to connect via HTTPS using Jsoup?</td>\n",
       "      <td>['java', 'android']</td>\n",
       "    </tr>\n",
       "    <tr>\n",
       "      <th>99997</th>\n",
       "      <td>Python Pandas Series of Datetimes to Seconds S...</td>\n",
       "      <td>['python', 'datetime', 'pandas']</td>\n",
       "    </tr>\n",
       "    <tr>\n",
       "      <th>99998</th>\n",
       "      <td>jqGrid issue grouping - Duplicate rows get app...</td>\n",
       "      <td>['javascript', 'jquery']</td>\n",
       "    </tr>\n",
       "    <tr>\n",
       "      <th>99999</th>\n",
       "      <td>Create a List of primitive int?</td>\n",
       "      <td>['java', 'list', 'generics']</td>\n",
       "    </tr>\n",
       "  </tbody>\n",
       "</table>\n",
       "<p>100000 rows × 2 columns</p>\n",
       "</div>"
      ],
      "text/plain": [
       "                                                   title  \\\n",
       "0                    How to draw a stacked dotplot in R?   \n",
       "1      mysql select all records where a datetime fiel...   \n",
       "2                 How to terminate windows phone 8.1 app   \n",
       "3      get current time in a specific country via jquery   \n",
       "4                          Configuring Tomcat to Use SSL   \n",
       "...                                                  ...   \n",
       "99995  Obj-c, incorrect checksum for freed object - o...   \n",
       "99996              How to connect via HTTPS using Jsoup?   \n",
       "99997  Python Pandas Series of Datetimes to Seconds S...   \n",
       "99998  jqGrid issue grouping - Duplicate rows get app...   \n",
       "99999                    Create a List of primitive int?   \n",
       "\n",
       "                                                  tags  \n",
       "0                                                ['r']  \n",
       "1                                     ['php', 'mysql']  \n",
       "2                                               ['c#']  \n",
       "3                             ['javascript', 'jquery']  \n",
       "4                                             ['java']  \n",
       "...                                                ...  \n",
       "99995  ['iphone', 'objective-c', 'ios', 'cocoa-touch']  \n",
       "99996                              ['java', 'android']  \n",
       "99997                 ['python', 'datetime', 'pandas']  \n",
       "99998                         ['javascript', 'jquery']  \n",
       "99999                     ['java', 'list', 'generics']  \n",
       "\n",
       "[100000 rows x 2 columns]"
      ]
     },
     "execution_count": 10,
     "metadata": {},
     "output_type": "execute_result"
    }
   ],
   "source": [
    "df"
   ]
  },
  {
   "cell_type": "code",
   "execution_count": 11,
   "id": "debacabd",
   "metadata": {},
   "outputs": [],
   "source": [
    "# new dataframe duplicates contains all rows in df that have duplicate value in title column\n",
    "duplicates = df[df.duplicated(['title'])]"
   ]
  },
  {
   "cell_type": "code",
   "execution_count": 12,
   "id": "412b8423",
   "metadata": {},
   "outputs": [
    {
     "data": {
      "text/html": [
       "<div>\n",
       "<style scoped>\n",
       "    .dataframe tbody tr th:only-of-type {\n",
       "        vertical-align: middle;\n",
       "    }\n",
       "\n",
       "    .dataframe tbody tr th {\n",
       "        vertical-align: top;\n",
       "    }\n",
       "\n",
       "    .dataframe thead th {\n",
       "        text-align: right;\n",
       "    }\n",
       "</style>\n",
       "<table border=\"1\" class=\"dataframe\">\n",
       "  <thead>\n",
       "    <tr style=\"text-align: right;\">\n",
       "      <th></th>\n",
       "      <th>title</th>\n",
       "      <th>tags</th>\n",
       "    </tr>\n",
       "  </thead>\n",
       "  <tbody>\n",
       "    <tr>\n",
       "      <th>24560</th>\n",
       "      <td>Uncaught SyntaxError: Unexpected identifier</td>\n",
       "      <td>['javascript', 'php', 'html']</td>\n",
       "    </tr>\n",
       "    <tr>\n",
       "      <th>36354</th>\n",
       "      <td>Conversion failed when converting date and/or ...</td>\n",
       "      <td>['c#', 'asp.net', 'sql', 'datetime']</td>\n",
       "    </tr>\n",
       "    <tr>\n",
       "      <th>42442</th>\n",
       "      <td>No rule to make target</td>\n",
       "      <td>['c']</td>\n",
       "    </tr>\n",
       "    <tr>\n",
       "      <th>43324</th>\n",
       "      <td>No such file or directory @ rb_sysopen</td>\n",
       "      <td>['ruby', 'csv']</td>\n",
       "    </tr>\n",
       "    <tr>\n",
       "      <th>45733</th>\n",
       "      <td>The underlying connection was closed: The conn...</td>\n",
       "      <td>['c#', 'asp.net', 'web-services']</td>\n",
       "    </tr>\n",
       "    <tr>\n",
       "      <th>68962</th>\n",
       "      <td>Conversion failed when converting date and/or ...</td>\n",
       "      <td>['vb.net']</td>\n",
       "    </tr>\n",
       "    <tr>\n",
       "      <th>70546</th>\n",
       "      <td>Object reference not set to an instance of an ...</td>\n",
       "      <td>['c#', 'asp.net-mvc']</td>\n",
       "    </tr>\n",
       "    <tr>\n",
       "      <th>79008</th>\n",
       "      <td>Uncaught Reference Error: function is not defined</td>\n",
       "      <td>['javascript', 'html', 'forms']</td>\n",
       "    </tr>\n",
       "    <tr>\n",
       "      <th>90134</th>\n",
       "      <td>System.NullReferenceException: Object referenc...</td>\n",
       "      <td>['c#', 'image']</td>\n",
       "    </tr>\n",
       "    <tr>\n",
       "      <th>91168</th>\n",
       "      <td>Could not find default endpoint element that r...</td>\n",
       "      <td>['c#', '.net', 'wcf']</td>\n",
       "    </tr>\n",
       "    <tr>\n",
       "      <th>91263</th>\n",
       "      <td>JSON.parse: unexpected character</td>\n",
       "      <td>['php', 'jquery', 'json']</td>\n",
       "    </tr>\n",
       "    <tr>\n",
       "      <th>93119</th>\n",
       "      <td>c# and excel automation - ending the running i...</td>\n",
       "      <td>['c#', 'excel']</td>\n",
       "    </tr>\n",
       "    <tr>\n",
       "      <th>96271</th>\n",
       "      <td>Input string was not in a correct format</td>\n",
       "      <td>['c#', 'asp.net-mvc']</td>\n",
       "    </tr>\n",
       "    <tr>\n",
       "      <th>98022</th>\n",
       "      <td>\"FormatException was unhandled\" Input string w...</td>\n",
       "      <td>['c#', '.net', 'asp.net']</td>\n",
       "    </tr>\n",
       "    <tr>\n",
       "      <th>98052</th>\n",
       "      <td>JavaScript runtime error: '$' is undefined</td>\n",
       "      <td>['javascript', 'c#', 'jquery']</td>\n",
       "    </tr>\n",
       "    <tr>\n",
       "      <th>98901</th>\n",
       "      <td>Cannot send session cookie - headers already sent</td>\n",
       "      <td>['php']</td>\n",
       "    </tr>\n",
       "  </tbody>\n",
       "</table>\n",
       "</div>"
      ],
      "text/plain": [
       "                                                   title  \\\n",
       "24560        Uncaught SyntaxError: Unexpected identifier   \n",
       "36354  Conversion failed when converting date and/or ...   \n",
       "42442                             No rule to make target   \n",
       "43324             No such file or directory @ rb_sysopen   \n",
       "45733  The underlying connection was closed: The conn...   \n",
       "68962  Conversion failed when converting date and/or ...   \n",
       "70546  Object reference not set to an instance of an ...   \n",
       "79008  Uncaught Reference Error: function is not defined   \n",
       "90134  System.NullReferenceException: Object referenc...   \n",
       "91168  Could not find default endpoint element that r...   \n",
       "91263                   JSON.parse: unexpected character   \n",
       "93119  c# and excel automation - ending the running i...   \n",
       "96271           Input string was not in a correct format   \n",
       "98022  \"FormatException was unhandled\" Input string w...   \n",
       "98052         JavaScript runtime error: '$' is undefined   \n",
       "98901  Cannot send session cookie - headers already sent   \n",
       "\n",
       "                                       tags  \n",
       "24560         ['javascript', 'php', 'html']  \n",
       "36354  ['c#', 'asp.net', 'sql', 'datetime']  \n",
       "42442                                 ['c']  \n",
       "43324                       ['ruby', 'csv']  \n",
       "45733     ['c#', 'asp.net', 'web-services']  \n",
       "68962                            ['vb.net']  \n",
       "70546                 ['c#', 'asp.net-mvc']  \n",
       "79008       ['javascript', 'html', 'forms']  \n",
       "90134                       ['c#', 'image']  \n",
       "91168                 ['c#', '.net', 'wcf']  \n",
       "91263             ['php', 'jquery', 'json']  \n",
       "93119                       ['c#', 'excel']  \n",
       "96271                 ['c#', 'asp.net-mvc']  \n",
       "98022             ['c#', '.net', 'asp.net']  \n",
       "98052        ['javascript', 'c#', 'jquery']  \n",
       "98901                               ['php']  "
      ]
     },
     "execution_count": 12,
     "metadata": {},
     "output_type": "execute_result"
    }
   ],
   "source": [
    "duplicates"
   ]
  },
  {
   "cell_type": "code",
   "execution_count": 13,
   "id": "9c00920a",
   "metadata": {},
   "outputs": [],
   "source": [
    "# subset 'title' means only title column used for identifying duplicates, \n",
    "# keep 'first' occurence, inplace 'true' means original dataframe should be modified \n",
    "df.drop_duplicates(subset='title' , keep = 'first' , inplace = True)"
   ]
  },
  {
   "cell_type": "code",
   "execution_count": 14,
   "id": "09d2fa53",
   "metadata": {},
   "outputs": [
    {
     "data": {
      "text/html": [
       "<div>\n",
       "<style scoped>\n",
       "    .dataframe tbody tr th:only-of-type {\n",
       "        vertical-align: middle;\n",
       "    }\n",
       "\n",
       "    .dataframe tbody tr th {\n",
       "        vertical-align: top;\n",
       "    }\n",
       "\n",
       "    .dataframe thead th {\n",
       "        text-align: right;\n",
       "    }\n",
       "</style>\n",
       "<table border=\"1\" class=\"dataframe\">\n",
       "  <thead>\n",
       "    <tr style=\"text-align: right;\">\n",
       "      <th></th>\n",
       "      <th>title</th>\n",
       "      <th>tags</th>\n",
       "    </tr>\n",
       "  </thead>\n",
       "  <tbody>\n",
       "    <tr>\n",
       "      <th>0</th>\n",
       "      <td>How to draw a stacked dotplot in R?</td>\n",
       "      <td>['r']</td>\n",
       "    </tr>\n",
       "    <tr>\n",
       "      <th>1</th>\n",
       "      <td>mysql select all records where a datetime fiel...</td>\n",
       "      <td>['php', 'mysql']</td>\n",
       "    </tr>\n",
       "    <tr>\n",
       "      <th>2</th>\n",
       "      <td>How to terminate windows phone 8.1 app</td>\n",
       "      <td>['c#']</td>\n",
       "    </tr>\n",
       "    <tr>\n",
       "      <th>3</th>\n",
       "      <td>get current time in a specific country via jquery</td>\n",
       "      <td>['javascript', 'jquery']</td>\n",
       "    </tr>\n",
       "    <tr>\n",
       "      <th>4</th>\n",
       "      <td>Configuring Tomcat to Use SSL</td>\n",
       "      <td>['java']</td>\n",
       "    </tr>\n",
       "    <tr>\n",
       "      <th>...</th>\n",
       "      <td>...</td>\n",
       "      <td>...</td>\n",
       "    </tr>\n",
       "    <tr>\n",
       "      <th>99995</th>\n",
       "      <td>Obj-c, incorrect checksum for freed object - o...</td>\n",
       "      <td>['iphone', 'objective-c', 'ios', 'cocoa-touch']</td>\n",
       "    </tr>\n",
       "    <tr>\n",
       "      <th>99996</th>\n",
       "      <td>How to connect via HTTPS using Jsoup?</td>\n",
       "      <td>['java', 'android']</td>\n",
       "    </tr>\n",
       "    <tr>\n",
       "      <th>99997</th>\n",
       "      <td>Python Pandas Series of Datetimes to Seconds S...</td>\n",
       "      <td>['python', 'datetime', 'pandas']</td>\n",
       "    </tr>\n",
       "    <tr>\n",
       "      <th>99998</th>\n",
       "      <td>jqGrid issue grouping - Duplicate rows get app...</td>\n",
       "      <td>['javascript', 'jquery']</td>\n",
       "    </tr>\n",
       "    <tr>\n",
       "      <th>99999</th>\n",
       "      <td>Create a List of primitive int?</td>\n",
       "      <td>['java', 'list', 'generics']</td>\n",
       "    </tr>\n",
       "  </tbody>\n",
       "</table>\n",
       "<p>99984 rows × 2 columns</p>\n",
       "</div>"
      ],
      "text/plain": [
       "                                                   title  \\\n",
       "0                    How to draw a stacked dotplot in R?   \n",
       "1      mysql select all records where a datetime fiel...   \n",
       "2                 How to terminate windows phone 8.1 app   \n",
       "3      get current time in a specific country via jquery   \n",
       "4                          Configuring Tomcat to Use SSL   \n",
       "...                                                  ...   \n",
       "99995  Obj-c, incorrect checksum for freed object - o...   \n",
       "99996              How to connect via HTTPS using Jsoup?   \n",
       "99997  Python Pandas Series of Datetimes to Seconds S...   \n",
       "99998  jqGrid issue grouping - Duplicate rows get app...   \n",
       "99999                    Create a List of primitive int?   \n",
       "\n",
       "                                                  tags  \n",
       "0                                                ['r']  \n",
       "1                                     ['php', 'mysql']  \n",
       "2                                               ['c#']  \n",
       "3                             ['javascript', 'jquery']  \n",
       "4                                             ['java']  \n",
       "...                                                ...  \n",
       "99995  ['iphone', 'objective-c', 'ios', 'cocoa-touch']  \n",
       "99996                              ['java', 'android']  \n",
       "99997                 ['python', 'datetime', 'pandas']  \n",
       "99998                         ['javascript', 'jquery']  \n",
       "99999                     ['java', 'list', 'generics']  \n",
       "\n",
       "[99984 rows x 2 columns]"
      ]
     },
     "execution_count": 14,
     "metadata": {},
     "output_type": "execute_result"
    }
   ],
   "source": [
    "df"
   ]
  },
  {
   "cell_type": "code",
   "execution_count": 15,
   "id": "f34492f7",
   "metadata": {},
   "outputs": [
    {
     "data": {
      "text/plain": [
       "How to draw a stacked dotplot in R?                                            1\n",
       "Hibernate JPA - ManyToOne relationship not populated                           1\n",
       "how to work treeview nodes contains in asp.net?                                1\n",
       "Initialize script                                                              1\n",
       "ASP.NET C# Must declare the scalar variable                                    1\n",
       "                                                                              ..\n",
       "Can jquery animate the css background property?                                1\n",
       "how to access variable from php in jquery using ajax(here i am using Json)     1\n",
       "Best way to handle session management in spring mvc filters or interceptors    1\n",
       "Can't run the .java file                                                       1\n",
       "Create a List of primitive int?                                                1\n",
       "Name: title, Length: 99984, dtype: int64"
      ]
     },
     "execution_count": 15,
     "metadata": {},
     "output_type": "execute_result"
    }
   ],
   "source": [
    "# counts the number of occurences of each unique value in title column\n",
    "df.title.value_counts()"
   ]
  },
  {
   "cell_type": "code",
   "execution_count": 16,
   "id": "36106199",
   "metadata": {},
   "outputs": [
    {
     "name": "stdout",
     "output_type": "stream",
     "text": [
      "<class 'pandas.core.frame.DataFrame'>\n",
      "Int64Index: 99984 entries, 0 to 99999\n",
      "Data columns (total 2 columns):\n",
      " #   Column  Non-Null Count  Dtype \n",
      "---  ------  --------------  ----- \n",
      " 0   title   99984 non-null  object\n",
      " 1   tags    99984 non-null  object\n",
      "dtypes: object(2)\n",
      "memory usage: 2.3+ MB\n"
     ]
    }
   ],
   "source": [
    "df.info()"
   ]
  },
  {
   "cell_type": "markdown",
   "id": "eaadf9f7",
   "metadata": {},
   "source": [
    "## Data Cleaning & Stemming"
   ]
  },
  {
   "cell_type": "code",
   "execution_count": 17,
   "id": "350a3762",
   "metadata": {},
   "outputs": [],
   "source": [
    "import re\n",
    "from nltk.corpus import stopwords \n",
    "from nltk.stem.snowball import SnowballStemmer\n",
    "from nltk.stem.wordnet import WordNetLemmatizer"
   ]
  },
  {
   "cell_type": "code",
   "execution_count": 18,
   "id": "a13f9679",
   "metadata": {},
   "outputs": [
    {
     "data": {
      "text/plain": [
       "title    object\n",
       "tags     object\n",
       "dtype: object"
      ]
     },
     "execution_count": 18,
     "metadata": {},
     "output_type": "execute_result"
    }
   ],
   "source": [
    "# retruns datatype of each column in the df dataframe \n",
    "df.dtypes"
   ]
  },
  {
   "cell_type": "code",
   "execution_count": 19,
   "id": "1f909abf",
   "metadata": {},
   "outputs": [
    {
     "data": {
      "text/plain": [
       "dtype('O')"
      ]
     },
     "execution_count": 19,
     "metadata": {},
     "output_type": "execute_result"
    }
   ],
   "source": [
    "df['title'].dtype"
   ]
  },
  {
   "cell_type": "code",
   "execution_count": 20,
   "id": "07143aa9",
   "metadata": {},
   "outputs": [
    {
     "data": {
      "text/plain": [
       "dtype('O')"
      ]
     },
     "execution_count": 20,
     "metadata": {},
     "output_type": "execute_result"
    }
   ],
   "source": [
    "df['tags'].dtype"
   ]
  },
  {
   "cell_type": "code",
   "execution_count": 21,
   "id": "d4b8e24a",
   "metadata": {},
   "outputs": [],
   "source": [
    "# function for text cleaning\n",
    "\n",
    "def clean(text):\n",
    "    #convert text to string \n",
    "    text=str(text) \n",
    "    #convert text to lowercase\n",
    "    text = text.lower()\n",
    "    # remove backslash-apostrophe \n",
    "    text = re.sub(\"\\'\", \"\", text)\n",
    "    # removing html tags\n",
    "    html = re.compile('<.*?>')\n",
    "    cleaned = re.sub(html, ' ', text)\n",
    "    fil=[]\n",
    "    for i in cleaned.split():    # splits the text and repalces the unwanted characters with ''\n",
    "        if i!='c++':\n",
    "            # remove everything except alphabets\n",
    "            cleaned=re.sub('[^A-Za-z]', '', i)\n",
    "            fil.append(cleaned)\n",
    "        else:\n",
    "            fil.append(i)\n",
    "    return fil                  #returning the cleaned text "
   ]
  },
  {
   "cell_type": "code",
   "execution_count": 22,
   "id": "b2b6415f",
   "metadata": {},
   "outputs": [
    {
     "data": {
      "text/plain": [
       "0                      How to draw a stacked dotplot in R?\n",
       "1        mysql select all records where a datetime fiel...\n",
       "2                   How to terminate windows phone 8.1 app\n",
       "3        get current time in a specific country via jquery\n",
       "4                            Configuring Tomcat to Use SSL\n",
       "                               ...                        \n",
       "99995    Obj-c, incorrect checksum for freed object - o...\n",
       "99996                How to connect via HTTPS using Jsoup?\n",
       "99997    Python Pandas Series of Datetimes to Seconds S...\n",
       "99998    jqGrid issue grouping - Duplicate rows get app...\n",
       "99999                      Create a List of primitive int?\n",
       "Name: title, Length: 99984, dtype: object"
      ]
     },
     "execution_count": 22,
     "metadata": {},
     "output_type": "execute_result"
    }
   ],
   "source": [
    "df['title']"
   ]
  },
  {
   "cell_type": "code",
   "execution_count": 23,
   "id": "3929c590",
   "metadata": {},
   "outputs": [],
   "source": [
    "# applying clean function to title column of df dataframe \n",
    "# lambda is the function used to apply the function to each element of the column \n",
    "# resulting output are cleaned title values which are assigned back to title column\n",
    "df.loc[:,'title']=df.loc[:,'title'].apply(lambda x: clean(x))"
   ]
  },
  {
   "cell_type": "code",
   "execution_count": 24,
   "id": "dfd2a4e3",
   "metadata": {},
   "outputs": [
    {
     "data": {
      "text/plain": [
       "0              [how, to, draw, a, stacked, dotplot, in, r]\n",
       "1        [mysql, select, all, records, where, a, dateti...\n",
       "2              [how, to, terminate, windows, phone, , app]\n",
       "3        [get, current, time, in, a, specific, country,...\n",
       "4                      [configuring, tomcat, to, use, ssl]\n",
       "                               ...                        \n",
       "99995    [objc, incorrect, checksum, for, freed, object...\n",
       "99996         [how, to, connect, via, https, using, jsoup]\n",
       "99997    [python, pandas, series, of, datetimes, to, se...\n",
       "99998    [jqgrid, issue, grouping, , duplicate, rows, g...\n",
       "99999                [create, a, list, of, primitive, int]\n",
       "Name: title, Length: 99984, dtype: object"
      ]
     },
     "execution_count": 24,
     "metadata": {},
     "output_type": "execute_result"
    }
   ],
   "source": [
    "df['title']"
   ]
  },
  {
   "cell_type": "markdown",
   "id": "ac076b25",
   "metadata": {},
   "source": [
    "## Plot"
   ]
  },
  {
   "cell_type": "code",
   "execution_count": 25,
   "id": "b8a8ee10",
   "metadata": {},
   "outputs": [],
   "source": [
    "import nltk \n",
    "import matplotlib.pyplot as plt\n",
    "import seaborn as sns"
   ]
  },
  {
   "cell_type": "code",
   "execution_count": 26,
   "id": "f8ca42cd",
   "metadata": {},
   "outputs": [],
   "source": [
    "#Function to visualize the words and frequency in title\n",
    "# x is a list, terms is an integer \n",
    "def freqwords(x, terms): \n",
    "    \n",
    "    # concatenating all words in list x into a single string \n",
    "  allwords = ' '.join([str(y) for y in x]) \n",
    "    # split string into individual words \n",
    "  allwords = allwords.split() \n",
    "    # creating frequency distribution\n",
    "  fdist = nltk.FreqDist(allwords) \n",
    "    # 'word' column contains unique words from frequency distribution \n",
    "    # 'count' column contains the frequency \n",
    "  wordsdf = pd.DataFrame({'word':list(fdist.keys()), 'count':list(fdist.values())}) \n",
    "  \n",
    "    # select the top terms from the dataframe based on frequency count \n",
    "  d = wordsdf.nlargest(columns=\"count\", n = terms) \n",
    "  \n",
    "    # visualize words and frequencies\n",
    "  plt.figure(figsize=(7,5)) \n",
    "    # creating Barplot function to visualize top terms \n",
    "  ax = sns.barplot(data=d, x= \"count\", y = \"word\") \n",
    "  ax.set(ylabel = 'Word')\n",
    "    # displaying the plot \n",
    "  plt.show()"
   ]
  },
  {
   "cell_type": "code",
   "execution_count": 27,
   "id": "60d45e29",
   "metadata": {},
   "outputs": [
    {
     "name": "stdout",
     "output_type": "stream",
     "text": [
      "Graph to visualize the words and frequency in 'title' column.\n",
      "\n",
      "\n"
     ]
    },
    {
     "data": {
      "image/png": "[encoded data removed]",
      "text/plain": [
       "<Figure size 700x500 with 1 Axes>"
      ]
     },
     "metadata": {},
     "output_type": "display_data"
    }
   ],
   "source": [
    "print(\"Graph to visualize the words and frequency in 'title' column.\\n\\n\")\n",
    "# print 25 most frequent words \n",
    "freqwords(df['title'], 25)"
   ]
  },
  {
   "cell_type": "markdown",
   "id": "b07fa09b",
   "metadata": {},
   "source": [
    "## Stemming"
   ]
  },
  {
   "cell_type": "code",
   "execution_count": 28,
   "id": "5706b330",
   "metadata": {},
   "outputs": [],
   "source": [
    "# creating a set of english language stopwords \n",
    "stop_words = set(stopwords.words('english'))\n",
    "# using snowball stemmer to stem english words \n",
    "stemmer = SnowballStemmer('english')"
   ]
  },
  {
   "cell_type": "code",
   "execution_count": 29,
   "id": "c348be31",
   "metadata": {},
   "outputs": [],
   "source": [
    "# function for removing stop words and stemming data\n",
    "\n",
    "def stem(text):\n",
    "    fil=[]                                         # initializing an empty list to store stemmed words \n",
    "    for i in text:\n",
    "        if i not in stop_words :\n",
    "            # using stem function to reduce word to its root form \n",
    "            text=(stemmer.stem(i).encode('utf8'))  # encoding the data to utf-8\n",
    "            fil.append(text)                       # appending to the fil list \n",
    "    text=b' '.join(fil)                            # stemmed words in fil list joined together to a single byte string \n",
    "    return text"
   ]
  },
  {
   "cell_type": "code",
   "execution_count": 30,
   "id": "18be0cce",
   "metadata": {},
   "outputs": [],
   "source": [
    "# applying stem function to title column of df dataframe \n",
    "# lambda is the function used to apply the function to each element of the column \n",
    "# resulting output are cleaned title values which are assigned back to title column\n",
    "df.loc[:,'title']=df.loc[:,'title'].apply(lambda x: stem(x))"
   ]
  },
  {
   "cell_type": "code",
   "execution_count": 31,
   "id": "0e022dfc",
   "metadata": {},
   "outputs": [
    {
     "data": {
      "text/plain": [
       "0                                  b'draw stack dotplot r'\n",
       "1        b'mysql select record datetim field less speci...\n",
       "2                              b'termin window phone  app'\n",
       "3            b'get current time specif countri via jqueri'\n",
       "4                               b'configur tomcat use ssl'\n",
       "                               ...                        \n",
       "99995    b'objc incorrect checksum freed object  object...\n",
       "99996                       b'connect via https use jsoup'\n",
       "99997       b'python panda seri datetim second sinc epoch'\n",
       "99998    b'jqgrid issu group  duplic row get append eve...\n",
       "99999                             b'creat list primit int'\n",
       "Name: title, Length: 99984, dtype: object"
      ]
     },
     "execution_count": 31,
     "metadata": {},
     "output_type": "execute_result"
    }
   ],
   "source": [
    "df.title"
   ]
  },
  {
   "cell_type": "code",
   "execution_count": 32,
   "id": "ab7404d5",
   "metadata": {},
   "outputs": [
    {
     "name": "stdout",
     "output_type": "stream",
     "text": [
      "Graph to visualize the words and frequency in 'title' column.\n",
      "\n",
      "\n"
     ]
    },
    {
     "data": {
      "image/png": "[encoded data removed]",
      "text/plain": [
       "<Figure size 700x500 with 1 Axes>"
      ]
     },
     "metadata": {},
     "output_type": "display_data"
    }
   ],
   "source": [
    "print(\"Graph to visualize the words and frequency in 'title' column.\\n\\n\")\n",
    "# print 25 most frequent words \n",
    "freqwords(df['title'], 25)"
   ]
  },
  {
   "cell_type": "markdown",
   "id": "8cf29a41",
   "metadata": {},
   "source": [
    "## Creating columns for cleaned Title & Tags"
   ]
  },
  {
   "cell_type": "code",
   "execution_count": 33,
   "id": "3d4cd6b8",
   "metadata": {},
   "outputs": [],
   "source": [
    "# creating empty list ques, each title is appended to this list  \n",
    "ques=[]\n",
    "for i in df.title:\n",
    "    ques.append(i)\n",
    "# new column added to dataframe df and ques list is assigned to it \n",
    "df['cleanQues'] = ques"
   ]
  },
  {
   "cell_type": "code",
   "execution_count": 34,
   "id": "90fd42f6",
   "metadata": {},
   "outputs": [],
   "source": [
    "# creating empty list ctags, for each tag re.sub is used to remove anything but alphabets and #+-\n",
    "ctags=[]\n",
    "for i in df.tags:\n",
    "    # cleaned result appended to ctags list \n",
    "    ctags.append(re.sub('[^A-Za-z#+-]', ' ', i))\n",
    "# new column added to dataframe df and ctags list assigned to it \n",
    "df['cleanTags']=ctags"
   ]
  },
  {
   "cell_type": "code",
   "execution_count": 35,
   "id": "c2fac378",
   "metadata": {},
   "outputs": [
    {
     "data": {
      "text/html": [
       "<div>\n",
       "<style scoped>\n",
       "    .dataframe tbody tr th:only-of-type {\n",
       "        vertical-align: middle;\n",
       "    }\n",
       "\n",
       "    .dataframe tbody tr th {\n",
       "        vertical-align: top;\n",
       "    }\n",
       "\n",
       "    .dataframe thead th {\n",
       "        text-align: right;\n",
       "    }\n",
       "</style>\n",
       "<table border=\"1\" class=\"dataframe\">\n",
       "  <thead>\n",
       "    <tr style=\"text-align: right;\">\n",
       "      <th></th>\n",
       "      <th>title</th>\n",
       "      <th>tags</th>\n",
       "      <th>cleanQues</th>\n",
       "      <th>cleanTags</th>\n",
       "    </tr>\n",
       "  </thead>\n",
       "  <tbody>\n",
       "    <tr>\n",
       "      <th>0</th>\n",
       "      <td>b'draw stack dotplot r'</td>\n",
       "      <td>['r']</td>\n",
       "      <td>b'draw stack dotplot r'</td>\n",
       "      <td>r</td>\n",
       "    </tr>\n",
       "    <tr>\n",
       "      <th>1</th>\n",
       "      <td>b'mysql select record datetim field less speci...</td>\n",
       "      <td>['php', 'mysql']</td>\n",
       "      <td>b'mysql select record datetim field less speci...</td>\n",
       "      <td>php    mysql</td>\n",
       "    </tr>\n",
       "    <tr>\n",
       "      <th>2</th>\n",
       "      <td>b'termin window phone  app'</td>\n",
       "      <td>['c#']</td>\n",
       "      <td>b'termin window phone  app'</td>\n",
       "      <td>c#</td>\n",
       "    </tr>\n",
       "    <tr>\n",
       "      <th>3</th>\n",
       "      <td>b'get current time specif countri via jqueri'</td>\n",
       "      <td>['javascript', 'jquery']</td>\n",
       "      <td>b'get current time specif countri via jqueri'</td>\n",
       "      <td>javascript    jquery</td>\n",
       "    </tr>\n",
       "    <tr>\n",
       "      <th>4</th>\n",
       "      <td>b'configur tomcat use ssl'</td>\n",
       "      <td>['java']</td>\n",
       "      <td>b'configur tomcat use ssl'</td>\n",
       "      <td>java</td>\n",
       "    </tr>\n",
       "    <tr>\n",
       "      <th>...</th>\n",
       "      <td>...</td>\n",
       "      <td>...</td>\n",
       "      <td>...</td>\n",
       "      <td>...</td>\n",
       "    </tr>\n",
       "    <tr>\n",
       "      <th>99995</th>\n",
       "      <td>b'objc incorrect checksum freed object  object...</td>\n",
       "      <td>['iphone', 'objective-c', 'ios', 'cocoa-touch']</td>\n",
       "      <td>b'objc incorrect checksum freed object  object...</td>\n",
       "      <td>iphone    objective-c    ios    cocoa-touch</td>\n",
       "    </tr>\n",
       "    <tr>\n",
       "      <th>99996</th>\n",
       "      <td>b'connect via https use jsoup'</td>\n",
       "      <td>['java', 'android']</td>\n",
       "      <td>b'connect via https use jsoup'</td>\n",
       "      <td>java    android</td>\n",
       "    </tr>\n",
       "    <tr>\n",
       "      <th>99997</th>\n",
       "      <td>b'python panda seri datetim second sinc epoch'</td>\n",
       "      <td>['python', 'datetime', 'pandas']</td>\n",
       "      <td>b'python panda seri datetim second sinc epoch'</td>\n",
       "      <td>python    datetime    pandas</td>\n",
       "    </tr>\n",
       "    <tr>\n",
       "      <th>99998</th>\n",
       "      <td>b'jqgrid issu group  duplic row get append eve...</td>\n",
       "      <td>['javascript', 'jquery']</td>\n",
       "      <td>b'jqgrid issu group  duplic row get append eve...</td>\n",
       "      <td>javascript    jquery</td>\n",
       "    </tr>\n",
       "    <tr>\n",
       "      <th>99999</th>\n",
       "      <td>b'creat list primit int'</td>\n",
       "      <td>['java', 'list', 'generics']</td>\n",
       "      <td>b'creat list primit int'</td>\n",
       "      <td>java    list    generics</td>\n",
       "    </tr>\n",
       "  </tbody>\n",
       "</table>\n",
       "<p>99984 rows × 4 columns</p>\n",
       "</div>"
      ],
      "text/plain": [
       "                                                   title  \\\n",
       "0                                b'draw stack dotplot r'   \n",
       "1      b'mysql select record datetim field less speci...   \n",
       "2                            b'termin window phone  app'   \n",
       "3          b'get current time specif countri via jqueri'   \n",
       "4                             b'configur tomcat use ssl'   \n",
       "...                                                  ...   \n",
       "99995  b'objc incorrect checksum freed object  object...   \n",
       "99996                     b'connect via https use jsoup'   \n",
       "99997     b'python panda seri datetim second sinc epoch'   \n",
       "99998  b'jqgrid issu group  duplic row get append eve...   \n",
       "99999                           b'creat list primit int'   \n",
       "\n",
       "                                                  tags  \\\n",
       "0                                                ['r']   \n",
       "1                                     ['php', 'mysql']   \n",
       "2                                               ['c#']   \n",
       "3                             ['javascript', 'jquery']   \n",
       "4                                             ['java']   \n",
       "...                                                ...   \n",
       "99995  ['iphone', 'objective-c', 'ios', 'cocoa-touch']   \n",
       "99996                              ['java', 'android']   \n",
       "99997                 ['python', 'datetime', 'pandas']   \n",
       "99998                         ['javascript', 'jquery']   \n",
       "99999                     ['java', 'list', 'generics']   \n",
       "\n",
       "                                               cleanQues  \\\n",
       "0                                b'draw stack dotplot r'   \n",
       "1      b'mysql select record datetim field less speci...   \n",
       "2                            b'termin window phone  app'   \n",
       "3          b'get current time specif countri via jqueri'   \n",
       "4                             b'configur tomcat use ssl'   \n",
       "...                                                  ...   \n",
       "99995  b'objc incorrect checksum freed object  object...   \n",
       "99996                     b'connect via https use jsoup'   \n",
       "99997     b'python panda seri datetim second sinc epoch'   \n",
       "99998  b'jqgrid issu group  duplic row get append eve...   \n",
       "99999                           b'creat list primit int'   \n",
       "\n",
       "                                             cleanTags  \n",
       "0                                                  r    \n",
       "1                                       php    mysql    \n",
       "2                                                 c#    \n",
       "3                               javascript    jquery    \n",
       "4                                               java    \n",
       "...                                                ...  \n",
       "99995    iphone    objective-c    ios    cocoa-touch    \n",
       "99996                                java    android    \n",
       "99997                   python    datetime    pandas    \n",
       "99998                           javascript    jquery    \n",
       "99999                       java    list    generics    \n",
       "\n",
       "[99984 rows x 4 columns]"
      ]
     },
     "execution_count": 35,
     "metadata": {},
     "output_type": "execute_result"
    }
   ],
   "source": [
    "df"
   ]
  },
  {
   "cell_type": "markdown",
   "id": "0977ad48",
   "metadata": {},
   "source": [
    "## Creating New Dataset"
   ]
  },
  {
   "cell_type": "code",
   "execution_count": 36,
   "id": "e4167006",
   "metadata": {},
   "outputs": [],
   "source": [
    "# creating new dataframe d\n",
    "d=pd.DataFrame()\n",
    "# title column is populated with cleanQues column of df dataframe \n",
    "d['title']=df.cleanQues\n",
    "# tags column is populated with cleanTags column of df dataframe \n",
    "d['tags']=df.cleanTags\n",
    "# to_csv function used to convert dataframe d to a csv file\n",
    "d.to_csv('datafinal',index=False)"
   ]
  },
  {
   "cell_type": "code",
   "execution_count": 37,
   "id": "67cd80f4",
   "metadata": {},
   "outputs": [],
   "source": [
    "df = pd.read_csv('datafinal')"
   ]
  },
  {
   "cell_type": "code",
   "execution_count": 38,
   "id": "b2d6493c",
   "metadata": {
    "scrolled": false
   },
   "outputs": [
    {
     "data": {
      "text/html": [
       "<div>\n",
       "<style scoped>\n",
       "    .dataframe tbody tr th:only-of-type {\n",
       "        vertical-align: middle;\n",
       "    }\n",
       "\n",
       "    .dataframe tbody tr th {\n",
       "        vertical-align: top;\n",
       "    }\n",
       "\n",
       "    .dataframe thead th {\n",
       "        text-align: right;\n",
       "    }\n",
       "</style>\n",
       "<table border=\"1\" class=\"dataframe\">\n",
       "  <thead>\n",
       "    <tr style=\"text-align: right;\">\n",
       "      <th></th>\n",
       "      <th>title</th>\n",
       "      <th>tags</th>\n",
       "    </tr>\n",
       "  </thead>\n",
       "  <tbody>\n",
       "    <tr>\n",
       "      <th>0</th>\n",
       "      <td>b'draw stack dotplot r'</td>\n",
       "      <td>r</td>\n",
       "    </tr>\n",
       "    <tr>\n",
       "      <th>1</th>\n",
       "      <td>b'mysql select record datetim field less speci...</td>\n",
       "      <td>php    mysql</td>\n",
       "    </tr>\n",
       "    <tr>\n",
       "      <th>2</th>\n",
       "      <td>b'termin window phone  app'</td>\n",
       "      <td>c#</td>\n",
       "    </tr>\n",
       "    <tr>\n",
       "      <th>3</th>\n",
       "      <td>b'get current time specif countri via jqueri'</td>\n",
       "      <td>javascript    jquery</td>\n",
       "    </tr>\n",
       "    <tr>\n",
       "      <th>4</th>\n",
       "      <td>b'configur tomcat use ssl'</td>\n",
       "      <td>java</td>\n",
       "    </tr>\n",
       "    <tr>\n",
       "      <th>5</th>\n",
       "      <td>b'awesom nest set plugin  add new children tre...</td>\n",
       "      <td>ruby-on-rails</td>\n",
       "    </tr>\n",
       "    <tr>\n",
       "      <th>6</th>\n",
       "      <td>b'creat map json respons rubi rail '</td>\n",
       "      <td>ruby    ruby-on-rails-     json</td>\n",
       "    </tr>\n",
       "    <tr>\n",
       "      <th>7</th>\n",
       "      <td>b'rspec test method call'</td>\n",
       "      <td>ruby</td>\n",
       "    </tr>\n",
       "    <tr>\n",
       "      <th>8</th>\n",
       "      <td>b'springboot catalina lifecycl except'</td>\n",
       "      <td>java    spring    spring-mvc</td>\n",
       "    </tr>\n",
       "    <tr>\n",
       "      <th>9</th>\n",
       "      <td>b'import data excel mysql databas use php'</td>\n",
       "      <td>php    codeigniter</td>\n",
       "    </tr>\n",
       "  </tbody>\n",
       "</table>\n",
       "</div>"
      ],
      "text/plain": [
       "                                               title  \\\n",
       "0                            b'draw stack dotplot r'   \n",
       "1  b'mysql select record datetim field less speci...   \n",
       "2                        b'termin window phone  app'   \n",
       "3      b'get current time specif countri via jqueri'   \n",
       "4                         b'configur tomcat use ssl'   \n",
       "5  b'awesom nest set plugin  add new children tre...   \n",
       "6               b'creat map json respons rubi rail '   \n",
       "7                          b'rspec test method call'   \n",
       "8             b'springboot catalina lifecycl except'   \n",
       "9         b'import data excel mysql databas use php'   \n",
       "\n",
       "                                  tags  \n",
       "0                                  r    \n",
       "1                       php    mysql    \n",
       "2                                 c#    \n",
       "3               javascript    jquery    \n",
       "4                               java    \n",
       "5                      ruby-on-rails    \n",
       "6    ruby    ruby-on-rails-     json    \n",
       "7                               ruby    \n",
       "8       java    spring    spring-mvc    \n",
       "9                 php    codeigniter    "
      ]
     },
     "execution_count": 38,
     "metadata": {},
     "output_type": "execute_result"
    }
   ],
   "source": [
    "df.head(10)"
   ]
  },
  {
   "cell_type": "code",
   "execution_count": 39,
   "id": "9e6d5d06",
   "metadata": {},
   "outputs": [
    {
     "name": "stdout",
     "output_type": "stream",
     "text": [
      "<class 'pandas.core.frame.DataFrame'>\n",
      "RangeIndex: 99984 entries, 0 to 99983\n",
      "Data columns (total 2 columns):\n",
      " #   Column  Non-Null Count  Dtype \n",
      "---  ------  --------------  ----- \n",
      " 0   title   99984 non-null  object\n",
      " 1   tags    99984 non-null  object\n",
      "dtypes: object(2)\n",
      "memory usage: 1.5+ MB\n"
     ]
    }
   ],
   "source": [
    "df.info()"
   ]
  },
  {
   "cell_type": "markdown",
   "id": "ed6e0ae4",
   "metadata": {},
   "source": [
    "## Splitting Dataset"
   ]
  },
  {
   "cell_type": "code",
   "execution_count": 40,
   "id": "3b837a7f",
   "metadata": {},
   "outputs": [],
   "source": [
    "from sklearn.model_selection import train_test_split"
   ]
  },
  {
   "cell_type": "code",
   "execution_count": 41,
   "id": "c3c91de0",
   "metadata": {},
   "outputs": [],
   "source": [
    "# splitting the data in dataframe df into training and testing sets \n",
    "# test_size = 0.2 means 20% data used for testing and 80% for training\n",
    "x_train, x_test, y_train, y_test = train_test_split(df.title, df.tags, test_size=0.2, random_state=9)"
   ]
  },
  {
   "cell_type": "markdown",
   "id": "fca0c1a8",
   "metadata": {},
   "source": [
    "## Converting Title & Tags to Vectors"
   ]
  },
  {
   "cell_type": "code",
   "execution_count": 42,
   "id": "c1a8a2f4",
   "metadata": {},
   "outputs": [],
   "source": [
    "# using Tfid & Count Vectorizer to convert data to vectors so that we can train and test data\n",
    "from sklearn.feature_extraction.text import TfidfVectorizer\n",
    "from sklearn.feature_extraction.text import CountVectorizer"
   ]
  },
  {
   "cell_type": "code",
   "execution_count": 43,
   "id": "b8fe9eb0",
   "metadata": {},
   "outputs": [],
   "source": [
    "# using tfidf vectorizer to transform the data in x_train and x_test sets into tf-idf vectors \n",
    "tfidf_vectorizer = TfidfVectorizer(min_df=0.00009, max_features=200000, smooth_idf=True, norm=\"l2\",\n",
    "                            sublinear_tf=False, ngram_range=(1,3))\n",
    "x_train_multilabel = tfidf_vectorizer.fit_transform(x_train)\n",
    "x_test_multilabel = tfidf_vectorizer.transform(x_test)"
   ]
  },
  {
   "cell_type": "code",
   "execution_count": 44,
   "id": "0aad74ba",
   "metadata": {},
   "outputs": [],
   "source": [
    "# using count vectorizer to transform the data in y_train and y_test into a matrix of occurence counts \n",
    "count_vectorizer = CountVectorizer(binary='true')\n",
    "y_train_multilabel = count_vectorizer.fit_transform(y_train)\n",
    "y_test_multilabel = count_vectorizer.transform(y_test)"
   ]
  },
  {
   "cell_type": "markdown",
   "id": "1014154f",
   "metadata": {},
   "source": [
    "## Training using OneVSRest and Stochastic Gradient Descent"
   ]
  },
  {
   "cell_type": "code",
   "execution_count": 45,
   "id": "5849bbdf",
   "metadata": {},
   "outputs": [],
   "source": [
    "# using multi-class classification to classify the tags\n",
    "# classifiers like One-Vs-Rest classifier and Stochastic Gradient Descent Classifier\n",
    "# OneVSRest classifier is used to perform multi label classification \n",
    "# Stochastic Gradient Descent Classifiier is used along for multi label \n",
    "from sklearn.multiclass import OneVsRestClassifier\n",
    "from sklearn.linear_model import SGDClassifier\n",
    "from sklearn import metrics\n",
    "from sklearn.metrics import f1_score,precision_score,recall_score\n",
    "from sklearn.metrics import classification_report,confusion_matrix, multilabel_confusion_matrix"
   ]
  },
  {
   "cell_type": "code",
   "execution_count": 46,
   "id": "382e6e99",
   "metadata": {},
   "outputs": [],
   "source": [
    "# training SGD classifier using OneVsRest Classifier wrapper for multi label \n",
    "classifier = OneVsRestClassifier(SGDClassifier(loss='log', max_iter = 5, tol = None, alpha=0.00001, penalty='l1'), n_jobs=-1)\n",
    "classifier.fit(x_train_multilabel, y_train_multilabel)\n",
    "# once classifier trained it is used to make predictions \n",
    "predictions = classifier.predict(x_test_multilabel)"
   ]
  },
  {
   "cell_type": "code",
   "execution_count": 47,
   "id": "66af2091",
   "metadata": {
    "scrolled": true
   },
   "outputs": [
    {
     "name": "stdout",
     "output_type": "stream",
     "text": [
      "One-VS-Rest Classifier\n",
      "Accuracy Score : 0.42111316697504625\n",
      "Macro f1 score : 0.5244810972181991\n",
      "Micro f1 scoore : 0.6647932149447275\n",
      "Hamming loss : 0.010002005351307746\n"
     ]
    }
   ],
   "source": [
    "# printing evaluation metrics \n",
    "print(\"One-VS-Rest Classifier \\n\\n\")\n",
    "# proportion of labels correctly predicted\n",
    "print(\"Accuracy Score :\",metrics.accuracy_score(y_test_multilabel,predictions))\n",
    "print(\"Macro f1 score :\",metrics.f1_score(y_test_multilabel, predictions, average = 'macro'))\n",
    "print(\"Micro f1 scoore :\",metrics.f1_score(y_test_multilabel, predictions, average = 'micro'))\n",
    "# fraction of labels incorrectly predicted\n",
    "print(\"Hamming loss :\",metrics.hamming_loss(y_test_multilabel,predictions))"
   ]
  },
  {
   "cell_type": "markdown",
   "id": "59ce55bb",
   "metadata": {},
   "source": [
    "## Classification Report & Confusion Matrix"
   ]
  },
  {
   "cell_type": "code",
   "execution_count": 48,
   "id": "168b0d90",
   "metadata": {
    "scrolled": false
   },
   "outputs": [
    {
     "name": "stdout",
     "output_type": "stream",
     "text": [
      "Report : \n",
      "\n",
      "\n",
      "              precision    recall  f1-score   support\n",
      "\n",
      "           0       0.80      0.51      0.62       338\n",
      "           1       0.25      0.04      0.06        84\n",
      "           2       0.94      0.54      0.69       588\n",
      "           3       0.97      0.72      0.83       264\n",
      "           4       0.62      0.19      0.29        83\n",
      "           5       0.59      0.35      0.44       484\n",
      "           6       0.84      0.42      0.56       984\n",
      "           7       0.82      0.70      0.76       105\n",
      "           8       0.33      0.05      0.09        96\n",
      "           9       0.11      0.01      0.02        90\n",
      "          10       0.98      0.75      0.85       161\n",
      "          11       0.69      0.27      0.38       364\n",
      "          12       0.75      0.66      0.70        89\n",
      "          13       0.25      0.05      0.08       155\n",
      "          14       0.46      0.19      0.27       138\n",
      "          15       0.42      0.21      0.28       115\n",
      "          16       0.99      0.75      0.85       412\n",
      "          17       0.62      0.22      0.32        73\n",
      "          18       0.87      0.58      0.69       184\n",
      "          19       0.83      0.48      0.61       129\n",
      "          20       0.73      0.54      0.62        94\n",
      "          21       0.93      0.75      0.83       102\n",
      "          22       0.00      0.00      0.00       124\n",
      "          23       0.44      0.18      0.26       181\n",
      "          24       0.82      0.47      0.60       129\n",
      "          25       0.18      0.02      0.04        95\n",
      "          26       0.75      0.49      0.60        79\n",
      "          27       0.70      0.64      0.67        80\n",
      "          28       0.92      0.60      0.72       145\n",
      "          29       0.61      0.26      0.37      1089\n",
      "          30       0.21      0.09      0.13       132\n",
      "          31       0.70      0.39      0.50       670\n",
      "          32       0.64      0.24      0.35       406\n",
      "          33       0.94      0.71      0.81      3719\n",
      "          34       0.90      0.75      0.82      3869\n",
      "          35       0.81      0.49      0.61      1470\n",
      "          36       0.93      0.56      0.70       144\n",
      "          37       0.88      0.66      0.75       425\n",
      "          38       0.77      0.46      0.57       140\n",
      "          39       0.82      0.78      0.80        95\n",
      "          40       0.84      0.54      0.66       188\n",
      "          41       0.70      0.28      0.40       166\n",
      "          42       0.54      0.20      0.29       139\n",
      "          43       0.23      0.04      0.07        70\n",
      "          44       0.70      0.62      0.66        80\n",
      "          45       0.86      0.41      0.55        79\n",
      "          46       0.94      0.82      0.88        62\n",
      "          47       0.76      0.46      0.57       230\n",
      "          48       0.78      0.37      0.50       391\n",
      "          49       0.84      0.45      0.58       588\n",
      "          50       0.81      0.37      0.51      1886\n",
      "          51       0.92      0.56      0.70       144\n",
      "          52       0.93      0.53      0.67        97\n",
      "          53       0.87      0.56      0.68       875\n",
      "          54       0.94      0.70      0.80       699\n",
      "          55       0.55      0.08      0.14        76\n",
      "          56       1.00      0.72      0.84        82\n",
      "          57       0.71      0.25      0.36       110\n",
      "          58       0.96      0.81      0.88        88\n",
      "          59       0.32      0.08      0.12        79\n",
      "          60       0.27      0.04      0.07        93\n",
      "          61       0.94      0.72      0.82      2781\n",
      "          62       0.65      0.29      0.40        69\n",
      "          63       0.94      0.73      0.82      1819\n",
      "          64       0.84      0.53      0.65        98\n",
      "          65       0.94      0.70      0.80       699\n",
      "          66       0.92      0.63      0.75       300\n",
      "          67       0.81      0.44      0.57       109\n",
      "          68       0.98      0.78      0.87       928\n",
      "          69       0.84      0.64      0.72        88\n",
      "          70       0.62      0.24      0.34       135\n",
      "          71       0.67      0.41      0.51       112\n",
      "          72       0.77      0.50      0.61        82\n",
      "          73       0.60      0.35      0.44        86\n",
      "          74       0.84      0.49      0.62       134\n",
      "          75       0.55      0.39      0.45        75\n",
      "          76       0.89      0.62      0.73       315\n",
      "          77       0.67      0.26      0.37       364\n",
      "          78       0.50      0.22      0.31       320\n",
      "          79       0.64      0.18      0.28       215\n",
      "          80       0.97      0.64      0.77       287\n",
      "          81       0.88      0.50      0.64       150\n",
      "          82       0.75      0.51      0.61        96\n",
      "          83       0.11      0.01      0.02        90\n",
      "          84       0.83      0.70      0.76       105\n",
      "          85       0.81      0.61      0.69        89\n",
      "          86       0.73      0.51      0.60        96\n",
      "          87       0.39      0.19      0.25       118\n",
      "          88       0.96      0.43      0.59       375\n",
      "          89       0.68      0.18      0.29       215\n",
      "          90       1.00      0.71      0.83        63\n",
      "          91       0.65      0.40      0.50       112\n",
      "          92       0.28      0.05      0.09       154\n",
      "          93       0.66      0.23      0.34       314\n",
      "          94       0.96      0.69      0.80       100\n",
      "          95       0.89      0.60      0.71       246\n",
      "          96       0.72      0.25      0.37        91\n",
      "          97       0.60      0.17      0.27       185\n",
      "          98       0.81      0.51      0.63       268\n",
      "\n",
      "   micro avg       0.86      0.54      0.66     36229\n",
      "   macro avg       0.71      0.43      0.52     36229\n",
      "weighted avg       0.82      0.54      0.64     36229\n",
      " samples avg       0.60      0.51      0.53     36229\n",
      "\n"
     ]
    },
    {
     "name": "stderr",
     "output_type": "stream",
     "text": [
      "C:\\Users\\nipun\\AppData\\Local\\Programs\\Python\\Python310\\lib\\site-packages\\sklearn\\metrics\\_classification.py:1334: UndefinedMetricWarning: Precision and F-score are ill-defined and being set to 0.0 in samples with no predicted labels. Use `zero_division` parameter to control this behavior.\n",
      "  _warn_prf(average, modifier, msg_start, len(result))\n",
      "C:\\Users\\nipun\\AppData\\Local\\Programs\\Python\\Python310\\lib\\site-packages\\sklearn\\metrics\\_classification.py:1334: UndefinedMetricWarning: Recall and F-score are ill-defined and being set to 0.0 in samples with no true labels. Use `zero_division` parameter to control this behavior.\n",
      "  _warn_prf(average, modifier, msg_start, len(result))\n"
     ]
    }
   ],
   "source": [
    "print(\"Report : \\n\\n\")\n",
    "# f1 score is a metric for evaluating the performance fo classification models\n",
    "print(classification_report(y_test_multilabel,predictions))"
   ]
  },
  {
   "cell_type": "code",
   "execution_count": 49,
   "id": "a884d788",
   "metadata": {
    "scrolled": false
   },
   "outputs": [
    {
     "name": "stdout",
     "output_type": "stream",
     "text": [
      "  (0, 77)\t1\n",
      "  (1, 10)\t1\n",
      "  (1, 61)\t1\n",
      "  (2, 26)\t1\n",
      "  (3, 11)\t1\n",
      "  (4, 34)\t1\n",
      "  (7, 33)\t1\n",
      "  (8, 63)\t1\n",
      "  (9, 61)\t1\n",
      "  (10, 54)\t1\n",
      "  (10, 65)\t1\n",
      "  (10, 68)\t1\n",
      "  (11, 2)\t1\n",
      "  (11, 33)\t1\n",
      "  (12, 29)\t1\n",
      "  (12, 34)\t1\n",
      "  (13, 5)\t1\n",
      "  (13, 54)\t1\n",
      "  (13, 65)\t1\n",
      "  (13, 68)\t1\n",
      "  (14, 33)\t1\n",
      "  (16, 50)\t1\n",
      "  (17, 10)\t1\n",
      "  (17, 61)\t1\n",
      "  (18, 33)\t1\n",
      "  :\t:\n",
      "  (19978, 34)\t1\n",
      "  (19979, 50)\t1\n",
      "  (19980, 49)\t1\n",
      "  (19980, 61)\t1\n",
      "  (19981, 54)\t1\n",
      "  (19981, 65)\t1\n",
      "  (19981, 68)\t1\n",
      "  (19983, 0)\t1\n",
      "  (19983, 35)\t1\n",
      "  (19983, 61)\t1\n",
      "  (19984, 6)\t1\n",
      "  (19984, 50)\t1\n",
      "  (19985, 33)\t1\n",
      "  (19985, 48)\t1\n",
      "  (19985, 76)\t1\n",
      "  (19986, 61)\t1\n",
      "  (19987, 61)\t1\n",
      "  (19988, 34)\t1\n",
      "  (19990, 90)\t1\n",
      "  (19992, 29)\t1\n",
      "  (19992, 34)\t1\n",
      "  (19993, 33)\t1\n",
      "  (19993, 45)\t1\n",
      "  (19996, 29)\t1\n",
      "  (19996, 34)\t1\n"
     ]
    }
   ],
   "source": [
    "print(predictions)"
   ]
  },
  {
   "cell_type": "code",
   "execution_count": 50,
   "id": "3fb0a3b3",
   "metadata": {
    "scrolled": false
   },
   "outputs": [
    {
     "name": "stdout",
     "output_type": "stream",
     "text": [
      "Report : \n",
      "[[[19616    43]\n",
      "  [  166   172]]\n",
      "\n",
      " [[19904     9]\n",
      "  [   81     3]]\n",
      "\n",
      " [[19389    20]\n",
      "  [  269   319]]\n",
      "\n",
      " [[19727     6]\n",
      "  [   74   190]]\n",
      "\n",
      " [[19904    10]\n",
      "  [   67    16]]\n",
      "\n",
      " [[19394   119]\n",
      "  [  314   170]]\n",
      "\n",
      " [[18937    76]\n",
      "  [  570   414]]\n",
      "\n",
      " [[19876    16]\n",
      "  [   31    74]]\n",
      "\n",
      " [[19891    10]\n",
      "  [   91     5]]\n",
      "\n",
      " [[19899     8]\n",
      "  [   89     1]]\n",
      "\n",
      " [[19834     2]\n",
      "  [   41   120]]\n",
      "\n",
      " [[19590    43]\n",
      "  [  267    97]]\n",
      "\n",
      " [[19888    20]\n",
      "  [   30    59]]\n",
      "\n",
      " [[19821    21]\n",
      "  [  148     7]]\n",
      "\n",
      " [[19828    31]\n",
      "  [  112    26]]\n",
      "\n",
      " [[19849    33]\n",
      "  [   91    24]]\n",
      "\n",
      " [[19582     3]\n",
      "  [  104   308]]\n",
      "\n",
      " [[19914    10]\n",
      "  [   57    16]]\n",
      "\n",
      " [[19797    16]\n",
      "  [   78   106]]\n",
      "\n",
      " [[19855    13]\n",
      "  [   67    62]]\n",
      "\n",
      " [[19884    19]\n",
      "  [   43    51]]\n",
      "\n",
      " [[19889     6]\n",
      "  [   25    77]]\n",
      "\n",
      " [[19864     9]\n",
      "  [  124     0]]\n",
      "\n",
      " [[19774    42]\n",
      "  [  148    33]]\n",
      "\n",
      " [[19855    13]\n",
      "  [   68    61]]\n",
      "\n",
      " [[19893     9]\n",
      "  [   93     2]]\n",
      "\n",
      " [[19905    13]\n",
      "  [   40    39]]\n",
      "\n",
      " [[19895    22]\n",
      "  [   29    51]]\n",
      "\n",
      " [[19844     8]\n",
      "  [   58    87]]\n",
      "\n",
      " [[18726   182]\n",
      "  [  803   286]]\n",
      "\n",
      " [[19819    46]\n",
      "  [  120    12]]\n",
      "\n",
      " [[19213   114]\n",
      "  [  408   262]]\n",
      "\n",
      " [[19537    54]\n",
      "  [  310    96]]\n",
      "\n",
      " [[16105   173]\n",
      "  [ 1087  2632]]\n",
      "\n",
      " [[15818   310]\n",
      "  [  969  2900]]\n",
      "\n",
      " [[18355   172]\n",
      "  [  743   727]]\n",
      "\n",
      " [[19847     6]\n",
      "  [   63    81]]\n",
      "\n",
      " [[19535    37]\n",
      "  [  145   280]]\n",
      "\n",
      " [[19838    19]\n",
      "  [   76    64]]\n",
      "\n",
      " [[19886    16]\n",
      "  [   21    74]]\n",
      "\n",
      " [[19790    19]\n",
      "  [   87   101]]\n",
      "\n",
      " [[19811    20]\n",
      "  [  119    47]]\n",
      "\n",
      " [[19834    24]\n",
      "  [  111    28]]\n",
      "\n",
      " [[19917    10]\n",
      "  [   67     3]]\n",
      "\n",
      " [[19896    21]\n",
      "  [   30    50]]\n",
      "\n",
      " [[19913     5]\n",
      "  [   47    32]]\n",
      "\n",
      " [[19932     3]\n",
      "  [   11    51]]\n",
      "\n",
      " [[19733    34]\n",
      "  [  124   106]]\n",
      "\n",
      " [[19564    42]\n",
      "  [  245   146]]\n",
      "\n",
      " [[19358    51]\n",
      "  [  324   264]]\n",
      "\n",
      " [[17954   157]\n",
      "  [ 1195   691]]\n",
      "\n",
      " [[19846     7]\n",
      "  [   63    81]]\n",
      "\n",
      " [[19896     4]\n",
      "  [   46    51]]\n",
      "\n",
      " [[19048    74]\n",
      "  [  383   492]]\n",
      "\n",
      " [[19267    31]\n",
      "  [  210   489]]\n",
      "\n",
      " [[19916     5]\n",
      "  [   70     6]]\n",
      "\n",
      " [[19915     0]\n",
      "  [   23    59]]\n",
      "\n",
      " [[19876    11]\n",
      "  [   83    27]]\n",
      "\n",
      " [[19906     3]\n",
      "  [   17    71]]\n",
      "\n",
      " [[19905    13]\n",
      "  [   73     6]]\n",
      "\n",
      " [[19893    11]\n",
      "  [   89     4]]\n",
      "\n",
      " [[17099   117]\n",
      "  [  780  2001]]\n",
      "\n",
      " [[19917    11]\n",
      "  [   49    20]]\n",
      "\n",
      " [[18098    80]\n",
      "  [  493  1326]]\n",
      "\n",
      " [[19889    10]\n",
      "  [   46    52]]\n",
      "\n",
      " [[19268    30]\n",
      "  [  213   486]]\n",
      "\n",
      " [[19681    16]\n",
      "  [  110   190]]\n",
      "\n",
      " [[19877    11]\n",
      "  [   61    48]]\n",
      "\n",
      " [[19054    15]\n",
      "  [  206   722]]\n",
      "\n",
      " [[19898    11]\n",
      "  [   32    56]]\n",
      "\n",
      " [[19842    20]\n",
      "  [  103    32]]\n",
      "\n",
      " [[19862    23]\n",
      "  [   66    46]]\n",
      "\n",
      " [[19903    12]\n",
      "  [   41    41]]\n",
      "\n",
      " [[19891    20]\n",
      "  [   56    30]]\n",
      "\n",
      " [[19850    13]\n",
      "  [   68    66]]\n",
      "\n",
      " [[19898    24]\n",
      "  [   46    29]]\n",
      "\n",
      " [[19659    23]\n",
      "  [  120   195]]\n",
      "\n",
      " [[19587    46]\n",
      "  [  270    94]]\n",
      "\n",
      " [[19608    69]\n",
      "  [  250    70]]\n",
      "\n",
      " [[19760    22]\n",
      "  [  176    39]]\n",
      "\n",
      " [[19705     5]\n",
      "  [  104   183]]\n",
      "\n",
      " [[19837    10]\n",
      "  [   75    75]]\n",
      "\n",
      " [[19885    16]\n",
      "  [   47    49]]\n",
      "\n",
      " [[19899     8]\n",
      "  [   89     1]]\n",
      "\n",
      " [[19877    15]\n",
      "  [   32    73]]\n",
      "\n",
      " [[19895    13]\n",
      "  [   35    54]]\n",
      "\n",
      " [[19883    18]\n",
      "  [   47    49]]\n",
      "\n",
      " [[19844    35]\n",
      "  [   96    22]]\n",
      "\n",
      " [[19616     6]\n",
      "  [  214   161]]\n",
      "\n",
      " [[19764    18]\n",
      "  [  176    39]]\n",
      "\n",
      " [[19934     0]\n",
      "  [   18    45]]\n",
      "\n",
      " [[19861    24]\n",
      "  [   67    45]]\n",
      "\n",
      " [[19822    21]\n",
      "  [  146     8]]\n",
      "\n",
      " [[19646    37]\n",
      "  [  243    71]]\n",
      "\n",
      " [[19894     3]\n",
      "  [   31    69]]\n",
      "\n",
      " [[19732    19]\n",
      "  [   99   147]]\n",
      "\n",
      " [[19897     9]\n",
      "  [   68    23]]\n",
      "\n",
      " [[19791    21]\n",
      "  [  153    32]]\n",
      "\n",
      " [[19697    32]\n",
      "  [  131   137]]]\n"
     ]
    }
   ],
   "source": [
    "print ('Report : ')\n",
    "# [[True Negatives    False Positives]\n",
    "#  [False Negatives    True Positives]]\n",
    "    print(multilabel_confusion_matrix(y_test_multilabel,predictions))"
   ]
  },
  {
   "cell_type": "code",
   "execution_count": 52,
   "id": "66c14120",
   "metadata": {},
   "outputs": [],
   "source": [
    "import pickle"
   ]
  },
  {
   "cell_type": "code",
   "execution_count": 53,
   "id": "11aab40c",
   "metadata": {},
   "outputs": [],
   "source": [
    "# storing models to .sav files to use model beyond runtime fo program \n",
    "model_data = 'model_data.sav'\n",
    "tfidf_data = 'tfidf_data.sav'\n",
    "bow_data = 'bow_data.sav'"
   ]
  },
  {
   "cell_type": "code",
   "execution_count": 54,
   "id": "c82a1174",
   "metadata": {},
   "outputs": [],
   "source": [
    "pickle.dump(classifier, open(model_data, 'wb'))\n",
    "pickle.dump(tfidf_vectorizer, open(tfidf_data, 'wb'))\n",
    "pickle.dump(count_vectorizer, open(bow_data, 'wb'))"
   ]
  },
  {
   "cell_type": "code",
   "execution_count": 55,
   "id": "4af7066c",
   "metadata": {},
   "outputs": [],
   "source": [
    "pickle.dump(classifier, open('model_data.pkl', 'wb'))\n",
    "pickle.dump(tfidf_vectorizer, open('tfidf_data.pkl', 'wb'))\n",
    "pickle.dump(count_vectorizer, open('bow_data.pkl', 'wb'))"
   ]
  },
  {
   "cell_type": "code",
   "execution_count": null,
   "id": "a1b4245a",
   "metadata": {},
   "outputs": [],
   "source": []
  }
 ],
 "metadata": {
  "kernelspec": {
   "display_name": "Python 3 (ipykernel)",
   "language": "python",
   "name": "python3"
  },
  "language_info": {
   "codemirror_mode": {
    "name": "ipython",
    "version": 3
   },
   "file_extension": ".py",
   "mimetype": "text/x-python",
   "name": "python",
   "nbconvert_exporter": "python",
   "pygments_lexer": "ipython3",
   "version": "3.10.7"
  }
 },
 "nbformat": 4,
 "nbformat_minor": 5
}
