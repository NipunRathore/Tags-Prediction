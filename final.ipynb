{
 "cells": [
  {
   "cell_type": "markdown",
   "id": "c0e46345",
   "metadata": {},
   "source": [
    "## Importing Necessary Libraries "
   ]
  },
  {
   "cell_type": "code",
   "execution_count": 1,
   "id": "60dc2f5a",
   "metadata": {},
   "outputs": [],
   "source": [
    "import pandas as pd \n",
    "import pickle \n",
    "import re "
   ]
  },
  {
   "cell_type": "markdown",
   "id": "ce29b214",
   "metadata": {},
   "source": [
    "## Loading the Model, Classifier and Vectorizers"
   ]
  },
  {
   "cell_type": "code",
   "execution_count": 2,
   "id": "b85550ea",
   "metadata": {},
   "outputs": [],
   "source": [
    "# loading the saved models and vectorizers\n",
    "classifier = pickle.load(open('model_data.sav', 'rb'))\n",
    "tfidf_vectorizer = pickle.load(open('tfidf_data.sav', 'rb'))\n",
    "count_vectorizer = pickle.load(open('bow_data.sav', 'rb'))"
   ]
  },
  {
   "cell_type": "markdown",
   "id": "d87897ea",
   "metadata": {},
   "source": [
    "## Functions for Cleaning & Stemming of User Input Question "
   ]
  },
  {
   "cell_type": "code",
   "execution_count": 3,
   "id": "58348289",
   "metadata": {},
   "outputs": [],
   "source": [
    "from nltk.corpus import stopwords\n",
    "from nltk.stem.snowball import SnowballStemmer\n",
    "from nltk.stem.wordnet import WordNetLemmatizer"
   ]
  },
  {
   "cell_type": "code",
   "execution_count": 4,
   "id": "35025f3f",
   "metadata": {},
   "outputs": [],
   "source": [
    "# function for text cleaning\n",
    "\n",
    "def clean(text):\n",
    "    #convert text to string \n",
    "    text=str(text) \n",
    "    #convert text to lowercase\n",
    "    text = text.lower()\n",
    "    # remove backslash-apostrophe \n",
    "    text = re.sub(\"\\'\", \"\", text)\n",
    "    # removing html tags\n",
    "    html = re.compile('<.*?>')\n",
    "    cleaned = re.sub(html, ' ', text)\n",
    "    fil=[]\n",
    "    for i in cleaned.split():    # splits the text and repalces the unwanted characters with ''\n",
    "        if i!='c++':\n",
    "            # remove everything except alphabets\n",
    "            cleaned=re.sub('[^A-Za-z]', '', i)\n",
    "            fil.append(cleaned)\n",
    "        else:\n",
    "            fil.append(i)\n",
    "    return fil                  #returning the cleaned text "
   ]
  },
  {
   "cell_type": "code",
   "execution_count": 5,
   "id": "5ca775b6",
   "metadata": {},
   "outputs": [],
   "source": [
    "# creating a set of english language stopwords \n",
    "stop_words = set(stopwords.words('english'))\n",
    "# using snowball stemmer to stem english words \n",
    "stemmer = SnowballStemmer('english')"
   ]
  },
  {
   "cell_type": "code",
   "execution_count": 6,
   "id": "356ff2a7",
   "metadata": {},
   "outputs": [],
   "source": [
    "# function for removing stop words and stemming data\n",
    "\n",
    "def stem(text):\n",
    "    fil=[]                                         # initializing an empty list to store stemmed words \n",
    "    for i in text:\n",
    "        if i not in stop_words :\n",
    "            # using stem function to reduce word to its root form \n",
    "            text=(stemmer.stem(i).encode('utf8'))  # encoding the data to utf-8\n",
    "            fil.append(text)                       # appending to the fil list \n",
    "    text=b' '.join(fil)                            # stemmed words in fil list joined together to a single byte string \n",
    "    return text"
   ]
  },
  {
   "cell_type": "markdown",
   "id": "693f1f47",
   "metadata": {},
   "source": [
    "## Creating GUI "
   ]
  },
  {
   "cell_type": "code",
   "execution_count": 7,
   "id": "da6aac04",
   "metadata": {},
   "outputs": [],
   "source": [
    "# importing necessary modules for creating a GUI using Tkinter\n",
    "# Tkniter - standars GUI library of python to create dialogs and buttons \n",
    "from tkinter import *\n",
    "# PIL - python image library provides tools for working with images \n",
    "from PIL import ImageTk, Image\n",
    "import os"
   ]
  },
  {
   "cell_type": "code",
   "execution_count": 8,
   "id": "4ee24b3e",
   "metadata": {},
   "outputs": [],
   "source": [
    "# creating instance of tk class, it represents the main window of a GUI application \n",
    "root = Tk()"
   ]
  },
  {
   "cell_type": "code",
   "execution_count": 9,
   "id": "3f05ef67",
   "metadata": {},
   "outputs": [
    {
     "data": {
      "text/plain": [
       "''"
      ]
     },
     "execution_count": 9,
     "metadata": {},
     "output_type": "execute_result"
    }
   ],
   "source": [
    "# Title\n",
    "root.title(\"Tag Prediction\")"
   ]
  },
  {
   "cell_type": "code",
   "execution_count": 10,
   "id": "b88840c7",
   "metadata": {},
   "outputs": [],
   "source": [
    "# creating a label to display text on GUI screen \n",
    "label1 = Label(root, text = \"Type a Question\",font = \"Arial 20 bold\", fg = 'black')\n",
    "# grid used to place label on a grid that represents rows and columns \n",
    "label1.grid(row = 2, column = 0)\n",
    "\n",
    "# Text box to enter the question\n",
    "ques = StringVar()\n",
    "# entry function used to create a textbox where user can type \n",
    "quesEntered = Entry(root, width = 40, textvariable = ques,font=\"Arial 18 bold\")\n",
    "quesEntered.grid(column = 0, row = 3, padx = 3, pady = 3)"
   ]
  },
  {
   "cell_type": "code",
   "execution_count": 11,
   "id": "007de08c",
   "metadata": {},
   "outputs": [],
   "source": [
    "# function that takes the question from user & predicts the tags to the question\n",
    "ans = StringVar()\n",
    "def pred():\n",
    "    # retrieving value of ques variable \n",
    "    t = ques.get()\n",
    "    l=[]\n",
    "    # pre processing the question - CLEANING and STEMMING\n",
    "    l.append(stem(clean(t)))\n",
    "    # using tfidf_vectorizer to transform the question to a vector so it can be used by classifier \n",
    "    x=tfidf_vectorizer.transform(l)\n",
    "    # predicting using classifier \n",
    "    t=classifier.predict(x)\n",
    "    # converting the predicted tags to human readable form\n",
    "    k=count_vectorizer.inverse_transform(t)\n",
    "    res = re.sub('[^A-Za-z#+-]+', ' ', str(k[0]))\n",
    "    ans.set(res)\n",
    "    label2 = Entry(root,textvariable = ans, font = \"Arial 20 bold\")\n",
    "    label2.grid(column =0, row = 5, padx = 3, pady = 3)"
   ]
  },
  {
   "cell_type": "code",
   "execution_count": 12,
   "id": "185dccc8",
   "metadata": {},
   "outputs": [],
   "source": [
    "# Button that predicts the tags by calling the function predict\n",
    "button = Button(root,text = \"Predict Tag\", font = \"Arial 18 bold\", command = pred)\n",
    "# placing the button in row 4 and column 3 with padding \n",
    "button.grid(column= 0, row = 4, padx = 3, pady = 3)"
   ]
  },
  {
   "cell_type": "code",
   "execution_count": null,
   "id": "8535ad11",
   "metadata": {},
   "outputs": [],
   "source": [
    "root.mainloop()"
   ]
  },
  {
   "cell_type": "code",
   "execution_count": null,
   "id": "b8f2d8f6",
   "metadata": {},
   "outputs": [],
   "source": []
  }
 ],
 "metadata": {
  "kernelspec": {
   "display_name": "Python 3 (ipykernel)",
   "language": "python",
   "name": "python3"
  },
  "language_info": {
   "codemirror_mode": {
    "name": "ipython",
    "version": 3
   },
   "file_extension": ".py",
   "mimetype": "text/x-python",
   "name": "python",
   "nbconvert_exporter": "python",
   "pygments_lexer": "ipython3",
   "version": "3.10.7"
  }
 },
 "nbformat": 4,
 "nbformat_minor": 5
}
